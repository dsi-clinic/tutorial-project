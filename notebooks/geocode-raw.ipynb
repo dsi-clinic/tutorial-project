{
 "cells": [
  {
   "cell_type": "code",
   "execution_count": 1,
   "metadata": {},
   "outputs": [],
   "source": [
    "import pandas as pd"
   ]
  },
  {
   "cell_type": "code",
   "execution_count": 28,
   "metadata": {},
   "outputs": [
    {
     "name": "stderr",
     "output_type": "stream",
     "text": [
      "/Users/toddnief/miniconda3/lib/python3.10/site-packages/openpyxl/worksheet/header_footer.py:48: UserWarning: Cannot parse header or footer so it will be ignored\n",
      "  warn(\"\"\"Cannot parse header or footer so it will be ignored\"\"\")\n"
     ]
    }
   ],
   "source": [
    "df = pd.read_excel(\"data/MPI_Directory_by_Establishment_Number.xlsx\")"
   ]
  },
  {
   "cell_type": "code",
   "execution_count": 23,
   "metadata": {},
   "outputs": [
    {
     "data": {
      "text/html": [
       "<div>\n",
       "<style scoped>\n",
       "    .dataframe tbody tr th:only-of-type {\n",
       "        vertical-align: middle;\n",
       "    }\n",
       "\n",
       "    .dataframe tbody tr th {\n",
       "        vertical-align: top;\n",
       "    }\n",
       "\n",
       "    .dataframe thead th {\n",
       "        text-align: right;\n",
       "    }\n",
       "</style>\n",
       "<table border=\"1\" class=\"dataframe\">\n",
       "  <thead>\n",
       "    <tr style=\"text-align: right;\">\n",
       "      <th></th>\n",
       "      <th>EstNumber</th>\n",
       "      <th>Establishment ID</th>\n",
       "      <th>Company</th>\n",
       "      <th>Street</th>\n",
       "      <th>City</th>\n",
       "      <th>State</th>\n",
       "      <th>Zip</th>\n",
       "      <th>Phone</th>\n",
       "      <th>GrantDate</th>\n",
       "      <th>Activities</th>\n",
       "      <th>DBAs</th>\n",
       "      <th>LatestMPIActiveDate</th>\n",
       "    </tr>\n",
       "  </thead>\n",
       "  <tbody>\n",
       "    <tr>\n",
       "      <th>0</th>\n",
       "      <td>G1028</td>\n",
       "      <td>195</td>\n",
       "      <td>Papetti's Hygrade Egg Products Inc.</td>\n",
       "      <td>One Papetti Plaza</td>\n",
       "      <td>Elizabeth</td>\n",
       "      <td>NJ</td>\n",
       "      <td>7206</td>\n",
       "      <td>(908) 282-7900</td>\n",
       "      <td>12/05/2019</td>\n",
       "      <td>Egg Product</td>\n",
       "      <td>NaN</td>\n",
       "      <td>2023-09-18</td>\n",
       "    </tr>\n",
       "    <tr>\n",
       "      <th>1</th>\n",
       "      <td>G1105</td>\n",
       "      <td>126734</td>\n",
       "      <td>American Egg Products, LLC</td>\n",
       "      <td>375 Pierce Industrial Blvd.</td>\n",
       "      <td>Blackshear</td>\n",
       "      <td>GA</td>\n",
       "      <td>31516</td>\n",
       "      <td>(912) 449-5700</td>\n",
       "      <td>09/22/2021</td>\n",
       "      <td>Egg Product</td>\n",
       "      <td>NaN</td>\n",
       "      <td>2023-09-18</td>\n",
       "    </tr>\n",
       "    <tr>\n",
       "      <th>2</th>\n",
       "      <td>G1126A</td>\n",
       "      <td>126639</td>\n",
       "      <td>Shepherds Processed Eggs</td>\n",
       "      <td>3502 West 6400 South</td>\n",
       "      <td>Spanish Fork</td>\n",
       "      <td>UT</td>\n",
       "      <td>84660</td>\n",
       "      <td>(801) 798-2593</td>\n",
       "      <td>01/28/2022</td>\n",
       "      <td>Egg Product</td>\n",
       "      <td>NaN</td>\n",
       "      <td>2023-09-18</td>\n",
       "    </tr>\n",
       "    <tr>\n",
       "      <th>3</th>\n",
       "      <td>G1126B</td>\n",
       "      <td>6164012</td>\n",
       "      <td>Shepherds Processed Eggs</td>\n",
       "      <td>3465 West 6400 South</td>\n",
       "      <td>Spanish Fork</td>\n",
       "      <td>UT</td>\n",
       "      <td>84660</td>\n",
       "      <td>NaN</td>\n",
       "      <td>01/28/2022</td>\n",
       "      <td>Egg Product</td>\n",
       "      <td>NaN</td>\n",
       "      <td>2023-09-18</td>\n",
       "    </tr>\n",
       "    <tr>\n",
       "      <th>4</th>\n",
       "      <td>G1141</td>\n",
       "      <td>8204</td>\n",
       "      <td>Wabash Valley Produce, Inc.</td>\n",
       "      <td>501 S. Chestnut</td>\n",
       "      <td>Farina</td>\n",
       "      <td>IL</td>\n",
       "      <td>62838</td>\n",
       "      <td>NaN</td>\n",
       "      <td>03/04/2022</td>\n",
       "      <td>Egg Product</td>\n",
       "      <td>NaN</td>\n",
       "      <td>2023-09-18</td>\n",
       "    </tr>\n",
       "  </tbody>\n",
       "</table>\n",
       "</div>"
      ],
      "text/plain": [
       "  EstNumber  Establishment ID                              Company  \\\n",
       "0     G1028               195  Papetti's Hygrade Egg Products Inc.   \n",
       "1     G1105            126734           American Egg Products, LLC   \n",
       "2    G1126A            126639             Shepherds Processed Eggs   \n",
       "3    G1126B           6164012             Shepherds Processed Eggs   \n",
       "4     G1141              8204          Wabash Valley Produce, Inc.   \n",
       "\n",
       "                        Street          City State    Zip           Phone  \\\n",
       "0            One Papetti Plaza     Elizabeth    NJ   7206  (908) 282-7900   \n",
       "1  375 Pierce Industrial Blvd.    Blackshear    GA  31516  (912) 449-5700   \n",
       "2         3502 West 6400 South  Spanish Fork    UT  84660  (801) 798-2593   \n",
       "3         3465 West 6400 South  Spanish Fork    UT  84660             NaN   \n",
       "4              501 S. Chestnut        Farina    IL  62838             NaN   \n",
       "\n",
       "    GrantDate   Activities DBAs LatestMPIActiveDate  \n",
       "0  12/05/2019  Egg Product  NaN          2023-09-18  \n",
       "1  09/22/2021  Egg Product  NaN          2023-09-18  \n",
       "2  01/28/2022  Egg Product  NaN          2023-09-18  \n",
       "3  01/28/2022  Egg Product  NaN          2023-09-18  \n",
       "4  03/04/2022  Egg Product  NaN          2023-09-18  "
      ]
     },
     "execution_count": 23,
     "metadata": {},
     "output_type": "execute_result"
    }
   ],
   "source": [
    "df.head(5)"
   ]
  },
  {
   "cell_type": "code",
   "execution_count": 31,
   "metadata": {},
   "outputs": [],
   "source": [
    "BASE_URL = \"https://api.mapbox.com/geocoding/v5/mapbox.places/\"\n",
    "MAPBOX_ACCESS_TOKEN = \"lol\""
   ]
  },
  {
   "cell_type": "code",
   "execution_count": 16,
   "metadata": {},
   "outputs": [],
   "source": [
    "import requests"
   ]
  },
  {
   "cell_type": "code",
   "execution_count": 32,
   "metadata": {},
   "outputs": [
    {
     "ename": "KeyError",
     "evalue": "'features'",
     "output_type": "error",
     "traceback": [
      "\u001b[0;31m---------------------------------------------------------------------------\u001b[0m",
      "\u001b[0;31mKeyError\u001b[0m                                  Traceback (most recent call last)",
      "\u001b[1;32m/Users/toddnief/Library/CloudStorage/Dropbox/1-Projects/dsi/new-project/geocode-raw.ipynb Cell 6\u001b[0m line \u001b[0;36m1\n\u001b[1;32m      <a href='vscode-notebook-cell:/Users/toddnief/Library/CloudStorage/Dropbox/1-Projects/dsi/new-project/geocode-raw.ipynb#W5sZmlsZQ%3D%3D?line=2'>3</a>\u001b[0m url \u001b[39m=\u001b[39m (\n\u001b[1;32m      <a href='vscode-notebook-cell:/Users/toddnief/Library/CloudStorage/Dropbox/1-Projects/dsi/new-project/geocode-raw.ipynb#W5sZmlsZQ%3D%3D?line=3'>4</a>\u001b[0m     BASE_URL\n\u001b[1;32m      <a href='vscode-notebook-cell:/Users/toddnief/Library/CloudStorage/Dropbox/1-Projects/dsi/new-project/geocode-raw.ipynb#W5sZmlsZQ%3D%3D?line=4'>5</a>\u001b[0m     \u001b[39m+\u001b[39m row\u001b[39m.\u001b[39mStreet\n\u001b[0;32m   (...)\u001b[0m\n\u001b[1;32m     <a href='vscode-notebook-cell:/Users/toddnief/Library/CloudStorage/Dropbox/1-Projects/dsi/new-project/geocode-raw.ipynb#W5sZmlsZQ%3D%3D?line=12'>13</a>\u001b[0m     \u001b[39m+\u001b[39m MAPBOX_ACCESS_TOKEN\n\u001b[1;32m     <a href='vscode-notebook-cell:/Users/toddnief/Library/CloudStorage/Dropbox/1-Projects/dsi/new-project/geocode-raw.ipynb#W5sZmlsZQ%3D%3D?line=13'>14</a>\u001b[0m )\n\u001b[1;32m     <a href='vscode-notebook-cell:/Users/toddnief/Library/CloudStorage/Dropbox/1-Projects/dsi/new-project/geocode-raw.ipynb#W5sZmlsZQ%3D%3D?line=14'>15</a>\u001b[0m r \u001b[39m=\u001b[39m requests\u001b[39m.\u001b[39mget(url)\n\u001b[0;32m---> <a href='vscode-notebook-cell:/Users/toddnief/Library/CloudStorage/Dropbox/1-Projects/dsi/new-project/geocode-raw.ipynb#W5sZmlsZQ%3D%3D?line=15'>16</a>\u001b[0m lng, lat \u001b[39m=\u001b[39m r\u001b[39m.\u001b[39;49mjson()[\u001b[39m\"\u001b[39;49m\u001b[39mfeatures\u001b[39;49m\u001b[39m\"\u001b[39;49m][\u001b[39m0\u001b[39m][\u001b[39m\"\u001b[39m\u001b[39mcenter\u001b[39m\u001b[39m\"\u001b[39m]\n\u001b[1;32m     <a href='vscode-notebook-cell:/Users/toddnief/Library/CloudStorage/Dropbox/1-Projects/dsi/new-project/geocode-raw.ipynb#W5sZmlsZQ%3D%3D?line=16'>17</a>\u001b[0m row[\u001b[39m'\u001b[39m\u001b[39mlat\u001b[39m\u001b[39m'\u001b[39m] \u001b[39m=\u001b[39m lat\n\u001b[1;32m     <a href='vscode-notebook-cell:/Users/toddnief/Library/CloudStorage/Dropbox/1-Projects/dsi/new-project/geocode-raw.ipynb#W5sZmlsZQ%3D%3D?line=17'>18</a>\u001b[0m row[\u001b[39m'\u001b[39m\u001b[39mlng\u001b[39m\u001b[39m'\u001b[39m] \u001b[39m=\u001b[39m lng\n",
      "\u001b[0;31mKeyError\u001b[0m: 'features'"
     ]
    }
   ],
   "source": [
    "geocoded_rows = []\n",
    "for idx, row in df[:5].iterrows():\n",
    "    url = (\n",
    "        BASE_URL\n",
    "        + row.Street\n",
    "        + \" \"\n",
    "        + row.City\n",
    "        + \" \"\n",
    "        + row.State\n",
    "        + \" \"\n",
    "        + str(row.Zip)\n",
    "        + \".json?access_token=\"\n",
    "        + MAPBOX_ACCESS_TOKEN\n",
    "    )\n",
    "    r = requests.get(url)\n",
    "    lng, lat = r.json()[\"features\"][0][\"center\"]\n",
    "    row['lat'] = lat\n",
    "    row['lng'] = lng\n",
    "    geocoded_rows.append(row)"
   ]
  },
  {
   "cell_type": "code",
   "execution_count": 27,
   "metadata": {},
   "outputs": [
    {
     "data": {
      "text/html": [
       "<div>\n",
       "<style scoped>\n",
       "    .dataframe tbody tr th:only-of-type {\n",
       "        vertical-align: middle;\n",
       "    }\n",
       "\n",
       "    .dataframe tbody tr th {\n",
       "        vertical-align: top;\n",
       "    }\n",
       "\n",
       "    .dataframe thead th {\n",
       "        text-align: right;\n",
       "    }\n",
       "</style>\n",
       "<table border=\"1\" class=\"dataframe\">\n",
       "  <thead>\n",
       "    <tr style=\"text-align: right;\">\n",
       "      <th></th>\n",
       "      <th>EstNumber</th>\n",
       "      <th>Establishment ID</th>\n",
       "      <th>Company</th>\n",
       "      <th>Street</th>\n",
       "      <th>City</th>\n",
       "      <th>State</th>\n",
       "      <th>Zip</th>\n",
       "      <th>Phone</th>\n",
       "      <th>GrantDate</th>\n",
       "      <th>Activities</th>\n",
       "      <th>DBAs</th>\n",
       "      <th>LatestMPIActiveDate</th>\n",
       "      <th>lat</th>\n",
       "      <th>lng</th>\n",
       "    </tr>\n",
       "  </thead>\n",
       "  <tbody>\n",
       "    <tr>\n",
       "      <th>0</th>\n",
       "      <td>G1028</td>\n",
       "      <td>195</td>\n",
       "      <td>Papetti's Hygrade Egg Products Inc.</td>\n",
       "      <td>One Papetti Plaza</td>\n",
       "      <td>Elizabeth</td>\n",
       "      <td>NJ</td>\n",
       "      <td>7206</td>\n",
       "      <td>(908) 282-7900</td>\n",
       "      <td>12/05/2019</td>\n",
       "      <td>Egg Product</td>\n",
       "      <td>NaN</td>\n",
       "      <td>2023-09-18</td>\n",
       "      <td>40.65806</td>\n",
       "      <td>-74.18888</td>\n",
       "    </tr>\n",
       "    <tr>\n",
       "      <th>1</th>\n",
       "      <td>G1105</td>\n",
       "      <td>126734</td>\n",
       "      <td>American Egg Products, LLC</td>\n",
       "      <td>375 Pierce Industrial Blvd.</td>\n",
       "      <td>Blackshear</td>\n",
       "      <td>GA</td>\n",
       "      <td>31516</td>\n",
       "      <td>(912) 449-5700</td>\n",
       "      <td>09/22/2021</td>\n",
       "      <td>Egg Product</td>\n",
       "      <td>NaN</td>\n",
       "      <td>2023-09-18</td>\n",
       "      <td>31.30437</td>\n",
       "      <td>-82.23245</td>\n",
       "    </tr>\n",
       "  </tbody>\n",
       "</table>\n",
       "</div>"
      ],
      "text/plain": [
       "  EstNumber  Establishment ID                              Company  \\\n",
       "0     G1028               195  Papetti's Hygrade Egg Products Inc.   \n",
       "1     G1105            126734           American Egg Products, LLC   \n",
       "\n",
       "                        Street        City State    Zip           Phone  \\\n",
       "0            One Papetti Plaza   Elizabeth    NJ   7206  (908) 282-7900   \n",
       "1  375 Pierce Industrial Blvd.  Blackshear    GA  31516  (912) 449-5700   \n",
       "\n",
       "    GrantDate   Activities  DBAs LatestMPIActiveDate       lat       lng  \n",
       "0  12/05/2019  Egg Product   NaN          2023-09-18  40.65806 -74.18888  \n",
       "1  09/22/2021  Egg Product   NaN          2023-09-18  31.30437 -82.23245  "
      ]
     },
     "execution_count": 27,
     "metadata": {},
     "output_type": "execute_result"
    }
   ],
   "source": [
    "df_geocoded = pd.DataFrame(geocoded_rows)\n",
    "df_geocoded.head(2)"
   ]
  },
  {
   "cell_type": "code",
   "execution_count": 29,
   "metadata": {},
   "outputs": [],
   "source": [
    "df_geocoded.to_csv(\"data/fsis-geocoded.csv\")"
   ]
  },
  {
   "cell_type": "code",
   "execution_count": null,
   "metadata": {},
   "outputs": [],
   "source": []
  }
 ],
 "metadata": {
  "kernelspec": {
   "display_name": "base",
   "language": "python",
   "name": "python3"
  },
  "language_info": {
   "codemirror_mode": {
    "name": "ipython",
    "version": 3
   },
   "file_extension": ".py",
   "mimetype": "text/x-python",
   "name": "python",
   "nbconvert_exporter": "python",
   "pygments_lexer": "ipython3",
   "version": "3.10.8"
  },
  "orig_nbformat": 4
 },
 "nbformat": 4,
 "nbformat_minor": 2
}
