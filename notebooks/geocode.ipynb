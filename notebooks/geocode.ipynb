{
 "cells": [
  {
   "cell_type": "markdown",
   "metadata": {},
   "source": [
    "### Poultry Processing Plant Geocoding\n",
    "\n",
    "This notebook demonstrates the first step of a data pipeline in which the locations of poultry processing sites are geocoded from street addresses into latitude/longitude coordinates. The result is then saved to a CSV file."
   ]
  },
  {
   "cell_type": "code",
   "execution_count": 1,
   "metadata": {},
   "outputs": [],
   "source": [
    "%load_ext autoreload\n",
    "%autoreload 2"
   ]
  },
  {
   "cell_type": "code",
   "execution_count": 2,
   "metadata": {},
   "outputs": [],
   "source": [
    "import os\n",
    "import pandas as pd\n",
    "\n",
    "from utils.geocode import geocode_address"
   ]
  },
  {
   "cell_type": "code",
   "execution_count": 3,
   "metadata": {},
   "outputs": [],
   "source": [
    "RAW_DATA_PATH = \"../data/raw/\"\n",
    "PROCESSED_DATA_PATH = \"../data/processed/\"\n",
    "DATA_PATH = RAW_DATA_PATH + \"MPI_Directory_by_Establishment_Number.xlsx\"\n",
    "EXPORT_PATH = PROCESSED_DATA_PATH + \"fsis_geocoded.csv\""
   ]
  },
  {
   "cell_type": "code",
   "execution_count": 4,
   "metadata": {},
   "outputs": [
    {
     "name": "stdout",
     "output_type": "stream",
     "text": [
      "<class 'pandas.core.frame.DataFrame'>\n",
      "RangeIndex: 6919 entries, 0 to 6918\n",
      "Data columns (total 12 columns):\n",
      " #   Column               Non-Null Count  Dtype         \n",
      "---  ------               --------------  -----         \n",
      " 0   EstNumber            6919 non-null   object        \n",
      " 1   Establishment ID     6919 non-null   int64         \n",
      " 2   Company              6919 non-null   object        \n",
      " 3   Street               6919 non-null   object        \n",
      " 4   City                 6919 non-null   object        \n",
      " 5   State                6919 non-null   object        \n",
      " 6   Zip                  6919 non-null   int64         \n",
      " 7   Phone                6058 non-null   object        \n",
      " 8   GrantDate            6919 non-null   object        \n",
      " 9   Activities           6919 non-null   object        \n",
      " 10  DBAs                 2162 non-null   object        \n",
      " 11  LatestMPIActiveDate  6919 non-null   datetime64[ns]\n",
      "dtypes: datetime64[ns](1), int64(2), object(9)\n",
      "memory usage: 648.8+ KB\n"
     ]
    },
    {
     "name": "stderr",
     "output_type": "stream",
     "text": [
      "/opt/conda/lib/python3.11/site-packages/openpyxl/worksheet/header_footer.py:48: UserWarning: Cannot parse header or footer so it will be ignored\n",
      "  warn(\"\"\"Cannot parse header or footer so it will be ignored\"\"\")\n"
     ]
    }
   ],
   "source": [
    "df = pd.read_excel(DATA_PATH)\n",
    "df.info()"
   ]
  },
  {
   "cell_type": "code",
   "execution_count": 5,
   "metadata": {},
   "outputs": [],
   "source": [
    "geocoded_rows = []\n",
    "# loop only does five rows as an example\n",
    "for idx, row in df[:5].iterrows():\n",
    "    lat, lng = geocode_address(row.Street, row.City, row.State, str(row.Zip))\n",
    "    row['lat'] = lat\n",
    "    row['lng'] = lng\n",
    "    geocoded_rows.append(row)"
   ]
  },
  {
   "cell_type": "code",
   "execution_count": 6,
   "metadata": {},
   "outputs": [
    {
     "data": {
      "text/html": [
       "<div>\n",
       "<style scoped>\n",
       "    .dataframe tbody tr th:only-of-type {\n",
       "        vertical-align: middle;\n",
       "    }\n",
       "\n",
       "    .dataframe tbody tr th {\n",
       "        vertical-align: top;\n",
       "    }\n",
       "\n",
       "    .dataframe thead th {\n",
       "        text-align: right;\n",
       "    }\n",
       "</style>\n",
       "<table border=\"1\" class=\"dataframe\">\n",
       "  <thead>\n",
       "    <tr style=\"text-align: right;\">\n",
       "      <th></th>\n",
       "      <th>EstNumber</th>\n",
       "      <th>Establishment ID</th>\n",
       "      <th>Company</th>\n",
       "      <th>Street</th>\n",
       "      <th>City</th>\n",
       "      <th>State</th>\n",
       "      <th>Zip</th>\n",
       "      <th>Phone</th>\n",
       "      <th>GrantDate</th>\n",
       "      <th>Activities</th>\n",
       "      <th>DBAs</th>\n",
       "      <th>LatestMPIActiveDate</th>\n",
       "      <th>lat</th>\n",
       "      <th>lng</th>\n",
       "    </tr>\n",
       "  </thead>\n",
       "  <tbody>\n",
       "    <tr>\n",
       "      <th>0</th>\n",
       "      <td>G1028</td>\n",
       "      <td>195</td>\n",
       "      <td>Papetti's Hygrade Egg Products Inc.</td>\n",
       "      <td>One Papetti Plaza</td>\n",
       "      <td>Elizabeth</td>\n",
       "      <td>NJ</td>\n",
       "      <td>7206</td>\n",
       "      <td>(908) 282-7900</td>\n",
       "      <td>12/05/2019</td>\n",
       "      <td>Egg Product</td>\n",
       "      <td>NaN</td>\n",
       "      <td>2023-09-18</td>\n",
       "      <td>40.657042</td>\n",
       "      <td>-74.190242</td>\n",
       "    </tr>\n",
       "    <tr>\n",
       "      <th>1</th>\n",
       "      <td>G1105</td>\n",
       "      <td>126734</td>\n",
       "      <td>American Egg Products, LLC</td>\n",
       "      <td>375 Pierce Industrial Blvd.</td>\n",
       "      <td>Blackshear</td>\n",
       "      <td>GA</td>\n",
       "      <td>31516</td>\n",
       "      <td>(912) 449-5700</td>\n",
       "      <td>09/22/2021</td>\n",
       "      <td>Egg Product</td>\n",
       "      <td>NaN</td>\n",
       "      <td>2023-09-18</td>\n",
       "      <td>31.304123</td>\n",
       "      <td>-82.232523</td>\n",
       "    </tr>\n",
       "    <tr>\n",
       "      <th>2</th>\n",
       "      <td>G1126A</td>\n",
       "      <td>126639</td>\n",
       "      <td>Shepherds Processed Eggs</td>\n",
       "      <td>3502 West 6400 South</td>\n",
       "      <td>Spanish Fork</td>\n",
       "      <td>UT</td>\n",
       "      <td>84660</td>\n",
       "      <td>(801) 798-2593</td>\n",
       "      <td>01/28/2022</td>\n",
       "      <td>Egg Product</td>\n",
       "      <td>NaN</td>\n",
       "      <td>2023-09-18</td>\n",
       "      <td>40.115087</td>\n",
       "      <td>-111.737468</td>\n",
       "    </tr>\n",
       "    <tr>\n",
       "      <th>3</th>\n",
       "      <td>G1126B</td>\n",
       "      <td>6164012</td>\n",
       "      <td>Shepherds Processed Eggs</td>\n",
       "      <td>3465 West 6400 South</td>\n",
       "      <td>Spanish Fork</td>\n",
       "      <td>UT</td>\n",
       "      <td>84660</td>\n",
       "      <td>NaN</td>\n",
       "      <td>01/28/2022</td>\n",
       "      <td>Egg Product</td>\n",
       "      <td>NaN</td>\n",
       "      <td>2023-09-18</td>\n",
       "      <td>40.114150</td>\n",
       "      <td>-111.737268</td>\n",
       "    </tr>\n",
       "    <tr>\n",
       "      <th>4</th>\n",
       "      <td>G1141</td>\n",
       "      <td>8204</td>\n",
       "      <td>Wabash Valley Produce, Inc.</td>\n",
       "      <td>501 S. Chestnut</td>\n",
       "      <td>Farina</td>\n",
       "      <td>IL</td>\n",
       "      <td>62838</td>\n",
       "      <td>NaN</td>\n",
       "      <td>03/04/2022</td>\n",
       "      <td>Egg Product</td>\n",
       "      <td>NaN</td>\n",
       "      <td>2023-09-18</td>\n",
       "      <td>38.836207</td>\n",
       "      <td>-88.769368</td>\n",
       "    </tr>\n",
       "  </tbody>\n",
       "</table>\n",
       "</div>"
      ],
      "text/plain": [
       "  EstNumber  Establishment ID                              Company  \\\n",
       "0     G1028               195  Papetti's Hygrade Egg Products Inc.   \n",
       "1     G1105            126734           American Egg Products, LLC   \n",
       "2    G1126A            126639             Shepherds Processed Eggs   \n",
       "3    G1126B           6164012             Shepherds Processed Eggs   \n",
       "4     G1141              8204          Wabash Valley Produce, Inc.   \n",
       "\n",
       "                        Street          City State    Zip           Phone  \\\n",
       "0            One Papetti Plaza     Elizabeth    NJ   7206  (908) 282-7900   \n",
       "1  375 Pierce Industrial Blvd.    Blackshear    GA  31516  (912) 449-5700   \n",
       "2         3502 West 6400 South  Spanish Fork    UT  84660  (801) 798-2593   \n",
       "3         3465 West 6400 South  Spanish Fork    UT  84660             NaN   \n",
       "4              501 S. Chestnut        Farina    IL  62838             NaN   \n",
       "\n",
       "    GrantDate   Activities  DBAs LatestMPIActiveDate        lat         lng  \n",
       "0  12/05/2019  Egg Product   NaN          2023-09-18  40.657042  -74.190242  \n",
       "1  09/22/2021  Egg Product   NaN          2023-09-18  31.304123  -82.232523  \n",
       "2  01/28/2022  Egg Product   NaN          2023-09-18  40.115087 -111.737468  \n",
       "3  01/28/2022  Egg Product   NaN          2023-09-18  40.114150 -111.737268  \n",
       "4  03/04/2022  Egg Product   NaN          2023-09-18  38.836207  -88.769368  "
      ]
     },
     "execution_count": 6,
     "metadata": {},
     "output_type": "execute_result"
    }
   ],
   "source": [
    "df_geocoded = pd.DataFrame(geocoded_rows)\n",
    "df_geocoded.head()"
   ]
  },
  {
   "cell_type": "code",
   "execution_count": 7,
   "metadata": {},
   "outputs": [],
   "source": [
    "os.makedirs(PROCESSED_DATA_PATH, exist_ok=True)\n",
    "df_geocoded.to_csv(EXPORT_PATH, index=False)"
   ]
  }
 ],
 "metadata": {
  "kernelspec": {
   "display_name": "Python 3 (ipykernel)",
   "language": "python",
   "name": "python3"
  },
  "language_info": {
   "codemirror_mode": {
    "name": "ipython",
    "version": 3
   },
   "file_extension": ".py",
   "mimetype": "text/x-python",
   "name": "python",
   "nbconvert_exporter": "python",
   "pygments_lexer": "ipython3",
   "version": "3.11.7"
  }
 },
 "nbformat": 4,
 "nbformat_minor": 4
}
